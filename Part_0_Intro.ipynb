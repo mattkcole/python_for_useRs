{
 "cells": [
  {
   "cell_type": "markdown",
   "metadata": {},
   "source": [
    "# Part 0: Introduction\n",
    "\n",
    "I've always thought it would be interesting to try to teach R via packages. \n",
    "The first chapter could be on the readr package - strictly relating to importing and exporting data. Chapter 2 could be dplyr, learning how to manipulate, wrangle, and view data. Following this we could explore the 'stats' (or caret perhaps) package for statistical learning, ggplot for visualization, maybe even shiny for dynamic web applications. It would be exciting to write - and also dangerous, as the endless options could lead to a long time of writing the book. \n",
    "I've also thought it would be important to write a book on Python for R users. Many of my friends from graduate school and beyond are intamitaly familiar with R, but havn't picked up Python yet. Many resources out there either teach statistics/data science in Python for those whom already know Python (i.e. are familiar with not only the syntax, and pythonic principals, but also oop) or start from scratch assuming no programming knowlege. Even worse, some place an inordinate amount of attention on some packages like numpy or matplotlib, whcih, while powerful, aren't needed to get a grasp on basic or even intermediate data science work in python. \n",
    "\n",
    "## Structure of this book\n",
    "\n",
    "This book takes the approach of moving from the ground up, starting with importing data to fancier predictive analytics. Each chapter's focus will be on a python library, emphasising learning the differences between Python and R, the libraries available to Python users, and how to continute to learn python.\n",
    "\n"
   ]
  },
  {
   "cell_type": "markdown",
   "metadata": {
    "collapsed": true
   },
   "source": [
    "## Getting started\n",
    "\n",
    "Download [anaconda](https://www.anaconda.com/download/). \n",
    "\n",
    "## Beginning similarities and differences\n",
    "\n",
    "We should first note some similarities and differences between the languages.\n",
    "\n",
    "Firstly, the main arithmatic functions are the same between R and Python: +, -, \\* are all the same. There are some differences however. \\*\\* in python is power (2\\*\\*4) is 16. \n",
    "\n",
    "In addition, python is very much general purpose. As such, there may be some relatively unexpected behavior. In python, you can define lists as such x = [1,2,3]. But the behavior of these lists can be unexpected."
   ]
  },
  {
   "cell_type": "code",
   "execution_count": 6,
   "metadata": {
    "collapsed": false
   },
   "outputs": [
    {
     "data": {
      "text/plain": [
       "[2, 3, 4, 2, 3, 4, 2, 3, 4]"
      ]
     },
     "execution_count": 6,
     "metadata": {},
     "output_type": "execute_result"
    }
   ],
   "source": [
    "[2,3,4] * 3"
   ]
  },
  {
   "cell_type": "markdown",
   "metadata": {},
   "source": [
    "Thats right - this 'multiplies' the list by three - i.e. it repeats the list three times. Not exacly expected or (for a statistician) usefull. \n",
    "\n",
    "Python people are smart - one of the most common libraries is called numpy which defines a powerful set of classess that are useful for quantitative scientists. Possibly the most used is called a numpy array that allows vectors, matricies, and n-dimensional arrays to act much more tamely for data scientists - We will cover these in a bit. "
   ]
  },
  {
   "cell_type": "code",
   "execution_count": 9,
   "metadata": {
    "collapsed": false
   },
   "outputs": [],
   "source": [
    "import numpy as np\n",
    "x = np.array([2,3,4])"
   ]
  },
  {
   "cell_type": "markdown",
   "metadata": {
    "collapsed": false
   },
   "source": [
    "If you have Googled 'python for data science' or something similar, you've probably heard of numpy, a library that provides array and matrix functionality to python. These are very important, but in my opinion, fairly low level for beginners, so we will tackle those later."
   ]
  },
  {
   "cell_type": "code",
   "execution_count": null,
   "metadata": {
    "collapsed": true
   },
   "outputs": [],
   "source": []
  }
 ],
 "metadata": {
  "kernelspec": {
   "display_name": "Python 3",
   "language": "python",
   "name": "python3"
  },
  "language_info": {
   "codemirror_mode": {
    "name": "ipython",
    "version": 3
   },
   "file_extension": ".py",
   "mimetype": "text/x-python",
   "name": "python",
   "nbconvert_exporter": "python",
   "pygments_lexer": "ipython3",
   "version": "3.6.0"
  }
 },
 "nbformat": 4,
 "nbformat_minor": 2
}
